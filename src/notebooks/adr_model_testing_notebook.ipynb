{
 "cells": [
  {
   "cell_type": "markdown",
   "id": "6bbf87e9",
   "metadata": {},
   "source": [
    "# Model Prototyping\n",
    "\n",
    "Notebook to test and compare ML models for multilabel ADR classification."
   ]
  },
  {
   "cell_type": "code",
   "execution_count": null,
   "id": "aad2560e",
   "metadata": {},
   "outputs": [],
   "source": [
    "from sklearn.feature_extraction.text import CountVectorizer\n",
    "from sklearn.model_selection import train_test_split\n",
    "from sklearn.ensemble import RandomForestClassifier\n",
    "from sklearn.multiclass import OneVsRestClassifier\n",
    "from sklearn.metrics import classification_report\n",
    "import pandas as pd\n",
    "\n",
    "# Load data\n",
    "df = pd.read_csv('src/data_sample/data_sample_full_named.csv')\n",
    "X_raw = df['Chemical Compound']\n",
    "Y = df.iloc[:, 1:25]"
   ]
  },
  {
   "cell_type": "code",
   "execution_count": null,
   "id": "034cc2ab",
   "metadata": {},
   "outputs": [],
   "source": [
    "# Convert SMILES to vector\n",
    "vectorizer = CountVectorizer(analyzer='char_wb', ngram_range=(2,4))\n",
    "X = vectorizer.fit_transform(X_raw)\n",
    "X_train, X_test, y_train, y_test = train_test_split(X, Y, test_size=0.2)"
   ]
  },
  {
   "cell_type": "code",
   "execution_count": null,
   "id": "094c0175",
   "metadata": {},
   "outputs": [],
   "source": [
    "# Train and evaluate RandomForest\n",
    "model = OneVsRestClassifier(RandomForestClassifier())\n",
    "model.fit(X_train, y_train)\n",
    "y_pred = model.predict(X_test)\n",
    "print(classification_report(y_test, y_pred))"
   ]
  }
 ],
 "metadata": {},
 "nbformat": 4,
 "nbformat_minor": 5
}
