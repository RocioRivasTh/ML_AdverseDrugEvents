{
 "cells": [
  {
   "cell_type": "markdown",
   "id": "da8e0fc5",
   "metadata": {},
   "source": [
    "# EDA Explorations\n",
    "\n",
    "Notebook for exploratory analysis on ADR dataset."
   ]
  },
  {
   "cell_type": "code",
   "execution_count": null,
   "id": "28524a8b",
   "metadata": {},
   "outputs": [],
   "source": [
    "import pandas as pd\n",
    "import seaborn as sns\n",
    "import matplotlib.pyplot as plt\n",
    "\n",
    "df = pd.read_csv('src/data_sample/data_sample_full_named.csv')\n",
    "df.head()"
   ]
  },
  {
   "cell_type": "code",
   "execution_count": null,
   "id": "74813bf6",
   "metadata": {},
   "outputs": [],
   "source": [
    "# Count of each ADR\n",
    "adr_cols = df.columns[1:25]\n",
    "adrs = df[adr_cols].sum().sort_values(ascending=False)\n",
    "plt.figure(figsize=(12, 6))\n",
    "sns.barplot(x=adrs.index, y=adrs.values)\n",
    "plt.xticks(rotation=90)\n",
    "plt.title('ADR Frequency')\n",
    "plt.show()"
   ]
  },
  {
   "cell_type": "code",
   "execution_count": null,
   "id": "62db61e5",
   "metadata": {},
   "outputs": [],
   "source": [
    "# ADR correlation heatmap\n",
    "sns.heatmap(df[adr_cols].corr(), cmap='coolwarm')\n",
    "plt.title('ADR Correlation')\n",
    "plt.show()"
   ]
  },
  {
   "cell_type": "markdown",
   "id": "a2c38442",
   "metadata": {},
   "source": [
    "## Top 10 Most Common ADR Combinations"
   ]
  },
  {
   "cell_type": "code",
   "execution_count": null,
   "id": "099f3ff7",
   "metadata": {},
   "outputs": [],
   "source": [
    "\n",
    "from collections import Counter\n",
    "combos = df[adr_cols].apply(lambda row: tuple(row.values), axis=1)\n",
    "combo_counts = Counter(combos)\n",
    "top_combos = combo_counts.most_common(10)\n",
    "combo_labels = [str(c[0]) for c in top_combos]\n",
    "combo_values = [c[1] for c in top_combos]\n",
    "\n",
    "plt.figure(figsize=(10, 6))\n",
    "sns.barplot(y=combo_labels, x=combo_values, orient='h')\n",
    "plt.title(\"Top 10 Most Common ADR Combinations\")\n",
    "plt.xlabel(\"Number of Compounds\")\n",
    "plt.ylabel(\"ADR Binary Pattern\")\n",
    "plt.tight_layout()\n",
    "plt.show()\n"
   ]
  },
  {
   "cell_type": "markdown",
   "id": "af770303",
   "metadata": {},
   "source": [
    "## Top 10 Compounds with Most ADRs"
   ]
  },
  {
   "cell_type": "code",
   "execution_count": null,
   "id": "7fa918b6",
   "metadata": {},
   "outputs": [],
   "source": [
    "\n",
    "df[\"total_adr\"] = df[adr_cols].sum(axis=1)\n",
    "top_adr_df = df.sort_values(by=\"total_adr\", ascending=False).head(10)\n",
    "plt.figure(figsize=(10, 6))\n",
    "sns.barplot(x=top_adr_df[\"Compound_Name\"], y=top_adr_df[\"total_adr\"])\n",
    "plt.title(\"Top 10 Compounds with Most ADRs\")\n",
    "plt.xticks(rotation=45, ha='right')\n",
    "plt.ylabel(\"Number of ADRs\")\n",
    "plt.tight_layout()\n",
    "plt.show()\n"
   ]
  },
  {
   "cell_type": "markdown",
   "id": "f60c6ef4",
   "metadata": {},
   "source": [
    "## Distribution of ADR Counts per Compound (Boxplot)"
   ]
  },
  {
   "cell_type": "code",
   "execution_count": null,
   "id": "4897a209",
   "metadata": {},
   "outputs": [],
   "source": [
    "\n",
    "plt.figure(figsize=(6, 4))\n",
    "sns.boxplot(y=df[\"total_adr\"])\n",
    "plt.title(\"Distribution of ADR Counts per Compound\")\n",
    "plt.ylabel(\"ADR Count\")\n",
    "plt.tight_layout()\n",
    "plt.show()\n"
   ]
  }
 ],
 "metadata": {},
 "nbformat": 4,
 "nbformat_minor": 5
}
